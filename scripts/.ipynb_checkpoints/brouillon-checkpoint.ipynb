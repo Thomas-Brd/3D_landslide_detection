{
 "cells": [
  {
   "cell_type": "code",
   "execution_count": null,
   "metadata": {},
   "outputs": [],
   "source": [
    "for i in range(0,len(Extraction_folder)):\n",
    "    # Export clouds in .asc\n",
    "    commande = cc.open_file(commande1,shift,workspace+workflow_folder+segmentation_folder+list(Extraction_folder.values())[i]+list(Extraction_filenames.values())[i]+'.las')\n",
    "    cc.connected_component(commande,octree_level,min_point_per_component)\n",
    "    # Export clouds in .las\n",
    "    commande = cc.open_file(commande0,shift,workspace+workflow_folder+segmentation_folder+list(Extraction_folder.values())[i]+list(Extraction_filenames.values())[i]+'.las')\n",
    "    cc.connected_component(commande,octree_level,min_point_per_component)\n",
    "    # Count the number of segmented clouds\n",
    "    number_of_outputs = int(sum(len(files) for _, _, files in os.walk(workspace+workflow_folder+segmentation_folder+list(Extraction_folder.values())[i]))/2)\n",
    "    # Rename the segmented cloud in function of their number\n",
    "    for ii in range(1,number_of_outputs+1):\n",
    "        os.rename(workspace+workflow_folder+segmentation_folder+list(Extraction_folder.values())[i]+list(Extraction_filenames.values())[i]+'_COMPONENT_'+str(ii)+'.asc',workspace+workflow_folder+segmentation_folder+list(Extraction_folder.values())[i]+str(ii-1)+'.csv')\n",
    "        os.rename(workspace+workflow_folder+segmentation_folder+list(Extraction_folder.values())[i]+list(Extraction_filenames.values())[i]+'_COMPONENT_'+str(ii)+'.las',workspace+workflow_folder+segmentation_folder+list(Extraction_folder.values())[i]+str(ii-1)+'.las')\n",
    "    # Sort them from the biggest to the smallest\n",
    "    nb_points = []\n",
    "    for iii in range(0,number_of_outputs):\n",
    "        file=pd.read_csv(workspace+workflow_folder+segmentation_folder+list(Extraction_folder.values())[i]+str(iii)+'.csv',sep=' ',header=None)\n",
    "        nb_points = np.append(nb_points,file.shape[0])\n",
    "    dataframe = pd.DataFrame({'Points':nb_points,})\n",
    "    dataframe= dataframe.sort_values(by=['Points'],ascending=False)\n",
    "    index_values=dataframe.index.values\n",
    "    # Create individual clouds folder\n",
    "    individual_clouds_folder = workspace+workflow_folder+segmentation_folder+list(Extraction_folder.values())[i]+list(individual_outputs_folder.values())[i]\n",
    "    os.makedirs(individual_clouds_folder)\n",
    "    count = 0 \n",
    "    for iii in index_values:\n",
    "        os.rename(workspace+workflow_folder+segmentation_folder+list(Extraction_folder.values())[i]+str(iii)+'.las',workspace+workflow_folder+segmentation_folder+list(Extraction_folder.values())[i]+list(individual_outputs_folder.values())[i]+str(count)+'.las')\n",
    "        count = count + 1\n",
    "    for iv in range(0,number_of_outputs):\n",
    "        os.remove(workspace+workflow_folder+segmentation_folder+list(Extraction_folder.values())[i]+str(iv)+'.csv')"
   ]
  },
  {
   "cell_type": "markdown",
   "metadata": {},
   "source": [
    "#### #2 Segmentation by connected components"
   ]
  },
  {
   "cell_type": "code",
   "execution_count": null,
   "metadata": {},
   "outputs": [],
   "source": [
    "# Parameters\n",
    "octree_level = 11\n",
    "min_point_per_component = 20\n",
    "commande1 = 'CloudCompare -SILENT -C_EXPORT_FMT BIN -AUTO_SAVE off -NO_TIMESTAMP'\n",
    "individual_outputs_filenames = {'Sources':'individual_sources','Deposits':'individual_deposits'}"
   ]
  },
  {
   "cell_type": "code",
   "execution_count": null,
   "metadata": {},
   "outputs": [],
   "source": [
    "for i in range(0,len(Extraction_folder)):\n",
    "    # Create individual clouds and store the result in a .bin file\n",
    "    commande = cc.open_file(commande1,shift,workspace+workflow_folder+segmentation_folder+list(Extraction_folder.values())[i]+list(Extraction_filenames.values())[i]+'.las')\n",
    "    cc.connected_component(commande,octree_level,min_point_per_component)\n",
    "    os.rename(workspace+workflow_folder+segmentation_folder+list(Extraction_folder.values())[i]+'AllClouds.bin',workspace+workflow_folder+segmentation_folder+list(Extraction_folder.values())[i]+list(individual_outputs_filenames.values())[i]+'.bin')\n",
    "    # Merge all individual clouds\n",
    "    commande = cc.open_file(commande0,shift,workspace+workflow_folder+segmentation_folder+list(Extraction_folder.values())[i]+list(individual_outputs_filenames.values())[i]+'.bin')\n",
    "    cc.merge_clouds(commande)\n",
    "    os.rename(workspace+workflow_folder+segmentation_folder+list(Extraction_folder.values())[i]+list(individual_outputs_filenames.values())[i]+'_MERGED_0.las',workspace+workflow_folder+segmentation_folder+list(Extraction_folder.values())[i]+list(individual_outputs_filenames.values())[i]+'_merged.las')"
   ]
  },
  {
   "cell_type": "code",
   "execution_count": null,
   "metadata": {},
   "outputs": [],
   "source": [
    "for i in range(0,len(Extraction_folder)):\n",
    "    df=pd.read_csv(workspace+workflow_folder+segmentation_folder+list(Extraction_folder.values())[i]+list(individual_outputs_filenames.values())[i]+'_merged.asc',sep=',',header=0)\n",
    "    df = df.add_suffix('_3D')\n",
    "    df.to_csv(list(Extraction_folder.values())[i]+list(individual_outputs_filenames.values())[0]+'_merged.asc',sep=',',header=True,index=False)"
   ]
  },
  {
   "cell_type": "markdown",
   "metadata": {},
   "source": [
    "Here, you have to open the individual clouds \".bin\" file in Cloudcompare to merge all the files and keep the index of all individual clouds. You can save the result in \".asc\" and keep the columns title."
   ]
  },
  {
   "cell_type": "markdown",
   "metadata": {},
   "source": [
    "IMPORTANT: The cloud number #5590  has been removed in this study as it has been identified as resulting from a flight line imperfect alignement."
   ]
  },
  {
   "cell_type": "markdown",
   "metadata": {},
   "source": [
    "Now, we will add the suffixe \"_3D\" at all scalar fields name to keep them during the Volume estimation workflow."
   ]
  },
  {
   "cell_type": "markdown",
   "metadata": {},
   "source": [
    "### #2 Volume estimation"
   ]
  },
  {
   "cell_type": "code",
   "execution_count": null,
   "metadata": {},
   "outputs": [],
   "source": [
    "# Compute Vertical-M3C2\n",
    "params_file = 'Vertical_m3c2_params.txt'\n",
    "filenames_Vm3C2 = {'pre_EQ_lidar':'LiDAR_2014', 'post_EQ_lidar':'LiDAR_2016_registered'}\n",
    "osf.open_folder(workspace+workflow_folder)\n",
    "for i in range(0,len(Extraction_folder)):\n",
    "    commande = cc.open_file(cc.open_file(cc.open_file(commande0,shift,workspace+Data_folder+filenames['pre_EQ_lidar']+'.laz'),shift,workspace+Data_folder+filenames['post_EQ_lidar']+'.laz'),shift,workspace+workflow_folder+segmentation_folder+list(Extraction_folder.values())[i]+list(individual_outputs_filenames.values())[i]+'_merged.asc')\n",
    "    cc.m3c2(commande,params_file,workspace,Data_folder,filenames_Vm3C2)\n",
    "    os.rename(workspace+Data_folder+list(filenames.values())[0]+'_M3C2.las',workspace+workflow_folder+segmentation_folder+list(Extraction_folder.values())[i]+'Vertical_M3C2.las')"
   ]
  },
  {
   "cell_type": "code",
   "execution_count": null,
   "metadata": {},
   "outputs": [],
   "source": [
    "number_of_outputs= {'Sources':1413,'Deposits':772}\n",
    "individual_outputs_folder = {'Sources':'individual_sources/','Deposits':'individual_deposits/'}"
   ]
  },
  {
   "cell_type": "code",
   "execution_count": null,
   "metadata": {},
   "outputs": [],
   "source": [
    "# Extract all individual source and deposits from the scalar field 'Original cloud index'\n",
    "for i in range(0,len(Extraction_folder)):\n",
    "    osf.open_folder(workspace+workflow_folder+segmentation_folder+list(Extraction_folder.values())[i]+list(individual_outputs_folder.values())[i])\n",
    "    commande = cc.open_file(commande0,shift,workspace+workflow_folder+segmentation_folder+list(Extraction_folder.values())[i]+'Vertical_M3C2.las')\n",
    "    for ii in range(0,list(number_of_outputs.values())[i]):\n",
    "        cc.filter_SF(commande,indexSF=7,min=ii,max=ii)\n",
    "        os.rename(workspace+workflow_folder+segmentation_folder+list(Extraction_folder.values())[i]+'Vertical_M3C2_FILTERED_['+str(ii)+'_'+str(ii)+'].las',workspace+workflow_folder+segmentation_folder+list(Extraction_folder.values())[i]+list(individual_outputs_folder.values())[i]+'Cloud_'+str(ii)+'.las')"
   ]
  }
 ],
 "metadata": {
  "kernelspec": {
   "display_name": "Python 3",
   "language": "python",
   "name": "python3"
  },
  "language_info": {
   "codemirror_mode": {
    "name": "ipython",
    "version": 3
   },
   "file_extension": ".py",
   "mimetype": "text/x-python",
   "name": "python",
   "nbconvert_exporter": "python",
   "pygments_lexer": "ipython3",
   "version": "3.7.6"
  }
 },
 "nbformat": 4,
 "nbformat_minor": 4
}
