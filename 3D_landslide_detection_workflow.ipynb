{
 "cells": [
  {
   "cell_type": "markdown",
   "metadata": {},
   "source": [
    "#  3D landslide detection and volume estimation \n",
    "<hr size=\"1\"></hr>"
   ]
  },
  {
   "cell_type": "markdown",
   "metadata": {},
   "source": [
    "## Workflow"
   ]
  },
  {
   "cell_type": "markdown",
   "metadata": {},
   "source": [
    "<table><tr>\n",
    "    <td> <img src=\"images/Workflow.png\" width=1000 height=800/> </td>\n",
    "</tr></table>"
   ]
  },
  {
   "cell_type": "markdown",
   "metadata": {},
   "source": [
    "## Getting started"
   ]
  },
  {
   "cell_type": "markdown",
   "metadata": {},
   "source": [
    "1. Define your paths, filenames and parameters in the \"parameters.py\" file\n",
    "2. Execute this Jupyter Notebook"
   ]
  },
  {
   "cell_type": "markdown",
   "metadata": {},
   "source": [
    "Note that the present version of the code does not include the iterative procedure that progressively increases the depth of the cylinder (pmax) used by M3C2. A new version will be available when this option will be available in Cloudcompare."
   ]
  },
  {
   "cell_type": "markdown",
   "metadata": {},
   "source": [
    "## Geomorphic change detection\n"
   ]
  },
  {
   "cell_type": "code",
   "execution_count": 4,
   "metadata": {},
   "outputs": [
    {
     "name": "stdout",
     "output_type": "stream",
     "text": [
      "Wall time: 13min 58s\n"
     ]
    }
   ],
   "source": [
    "%%time\n",
    "import scripts.Landslide_detection as LD\n",
    "import scripts.functions as fc\n",
    "from scripts.parameters import *\n",
    "import importlib\n",
    "importlib.reload(fc)\n",
    "importlib.reload(LD)\n",
    "LD.Geomorphic_change_detection()  "
   ]
  },
  {
   "cell_type": "markdown",
   "metadata": {},
   "source": [
    "Here the significant changes located in the river are manually filtered out."
   ]
  },
  {
   "cell_type": "markdown",
   "metadata": {},
   "source": [
    "## Landslide segmentation and volume estimation"
   ]
  },
  {
   "cell_type": "code",
   "execution_count": 2,
   "metadata": {},
   "outputs": [],
   "source": [
    "import importlib\n",
    "import scripts.Landslide_detection as LD\n",
    "import scripts.functions as fc\n",
    "importlib.reload(LD)\n",
    "importlib.reload(fc)\n",
    "import scripts.cloudcompare as cc\n",
    "importlib.reload(cc)\n",
    "from scripts.parameters import *"
   ]
  },
  {
   "cell_type": "code",
   "execution_count": 3,
   "metadata": {},
   "outputs": [
    {
     "name": "stdout",
     "output_type": "stream",
     "text": [
      "Wall time: 31min 5s\n"
     ]
    }
   ],
   "source": [
    "%%time\n",
    "LD.Landslide_segmentation()"
   ]
  },
  {
   "cell_type": "markdown",
   "metadata": {},
   "source": [
    "## Results: Landslide properties"
   ]
  },
  {
   "cell_type": "code",
   "execution_count": 4,
   "metadata": {},
   "outputs": [],
   "source": [
    "path = 'D:/Beyond_2D_inventories_synoptic_3D_landslide_volume_calculation_from_repeat_LiDAR_data/data_to_publish/Code/Landslide_detection/res/'\n",
    "filenames = {'Sources':'Landslide_source_infos.csv','Deposits':'Landslide_deposits_infos.csv'}"
   ]
  },
  {
   "cell_type": "code",
   "execution_count": 5,
   "metadata": {},
   "outputs": [
    {
     "data": {
      "text/html": [
       "<div>\n",
       "<style scoped>\n",
       "    .dataframe tbody tr th:only-of-type {\n",
       "        vertical-align: middle;\n",
       "    }\n",
       "\n",
       "    .dataframe tbody tr th {\n",
       "        vertical-align: top;\n",
       "    }\n",
       "\n",
       "    .dataframe thead th {\n",
       "        text-align: right;\n",
       "    }\n",
       "</style>\n",
       "<table border=\"1\" class=\"dataframe\">\n",
       "  <thead>\n",
       "    <tr style=\"text-align: right;\">\n",
       "      <th></th>\n",
       "      <th>Number of sources/deposits</th>\n",
       "      <th>Range of area (m² ; [min,max])</th>\n",
       "      <th>Total area (m²)</th>\n",
       "      <th>Range of volume (m$^3$)</th>\n",
       "      <th>Total volume (m$^3$)</th>\n",
       "      <th>3D uncertainty on total volume</th>\n",
       "    </tr>\n",
       "  </thead>\n",
       "  <tbody>\n",
       "    <tr>\n",
       "      <th>Sources</th>\n",
       "      <td>1172</td>\n",
       "      <td>[20.0, 40462.0]</td>\n",
       "      <td>320731.0</td>\n",
       "      <td>[1.53, 169720.83]</td>\n",
       "      <td>779560.0</td>\n",
       "      <td>182387.0</td>\n",
       "    </tr>\n",
       "    <tr>\n",
       "      <th>Deposits</th>\n",
       "      <td>747</td>\n",
       "      <td>[20.0, 27881.0]</td>\n",
       "      <td>315819.0</td>\n",
       "      <td>[0.07, 151606.23]</td>\n",
       "      <td>975827.0</td>\n",
       "      <td>174384.0</td>\n",
       "    </tr>\n",
       "  </tbody>\n",
       "</table>\n",
       "</div>"
      ],
      "text/plain": [
       "          Number of sources/deposits Range of area (m² ; [min,max])  \\\n",
       "Sources                         1172                [20.0, 40462.0]   \n",
       "Deposits                         747                [20.0, 27881.0]   \n",
       "\n",
       "          Total area (m²) Range of volume (m$^3$)  Total volume (m$^3$)  \\\n",
       "Sources          320731.0       [1.53, 169720.83]              779560.0   \n",
       "Deposits         315819.0       [0.07, 151606.23]              975827.0   \n",
       "\n",
       "          3D uncertainty on total volume  \n",
       "Sources                         182387.0  \n",
       "Deposits                        174384.0  "
      ]
     },
     "execution_count": 5,
     "metadata": {},
     "output_type": "execute_result"
    }
   ],
   "source": [
    "importlib.reload(fc)\n",
    "fc.read_landslide_prop(path,filenames)"
   ]
  },
  {
   "cell_type": "code",
   "execution_count": null,
   "metadata": {},
   "outputs": [],
   "source": []
  }
 ],
 "metadata": {
  "kernelspec": {
   "display_name": "Python 3",
   "language": "python",
   "name": "python3"
  },
  "language_info": {
   "codemirror_mode": {
    "name": "ipython",
    "version": 3
   },
   "file_extension": ".py",
   "mimetype": "text/x-python",
   "name": "python",
   "nbconvert_exporter": "python",
   "pygments_lexer": "ipython3",
   "version": "3.6.12"
  }
 },
 "nbformat": 4,
 "nbformat_minor": 4
}
