{
 "cells": [
  {
   "cell_type": "markdown",
   "metadata": {},
   "source": [
    "# <center> Beyond 2D inventories: synoptic 3D landslide volume calculation from repeat LiDAR data - Workflow</center>"
   ]
  },
  {
   "cell_type": "code",
   "execution_count": 1,
   "metadata": {},
   "outputs": [],
   "source": [
    "import os\n",
    "import importlib\n",
    "import numpy as np\n",
    "import pandas as pd\n",
    "import scripts.cloudcompare as cc\n",
    "import scripts.os_functions as osf\n",
    "import scripts.functions as fc"
   ]
  },
  {
   "cell_type": "markdown",
   "metadata": {},
   "source": [
    "# Methods: 3D point cloud differencing to detect and measure landslides"
   ]
  },
  {
   "cell_type": "markdown",
   "metadata": {},
   "source": [
    "## 3D Landslide mapping workflow\n",
    "<hr size=\"1\"></hr>"
   ]
  },
  {
   "cell_type": "markdown",
   "metadata": {},
   "source": [
    "### Master files"
   ]
  },
  {
   "cell_type": "markdown",
   "metadata": {},
   "source": [
    "<table><tr>\n",
    "    <td> <img src=\"figures/Master_files.png\" width=400 height=400/> </td>\n",
    "</tr></table>"
   ]
  },
  {
   "cell_type": "code",
   "execution_count": 2,
   "metadata": {},
   "outputs": [],
   "source": [
    "from scripts.Work_environment_and_settings import *"
   ]
  },
  {
   "cell_type": "markdown",
   "metadata": {},
   "source": [
    "### Geomorphic change detection\n"
   ]
  },
  {
   "cell_type": "markdown",
   "metadata": {},
   "source": [
    "<table><tr>\n",
    "    <td> <img src=\"figures/Master_files_2.png\" width=400 height=400/> </td>\n",
    "</tr></table>"
   ]
  },
  {
   "cell_type": "code",
   "execution_count": 3,
   "metadata": {},
   "outputs": [],
   "source": [
    "osf.open_folder(workspace+workflow_folder)\n",
    "commande1 = 'CloudCompare -SILENT -C_EXPORT_FMT ASC -SEP COMMA  -ADD_HEADER -AUTO_SAVE off -NO_TIMESTAMP'"
   ]
  },
  {
   "cell_type": "code",
   "execution_count": null,
   "metadata": {},
   "outputs": [],
   "source": [
    "# Compute 3D-M3C2\n",
    "commande = cc.open_file(cc.open_file(cc.open_file(commande0,shift,workspace+Data_folder+filenames['pre_EQ_lidar']+'.laz'),shift,workspace+Data_folder+filenames['post_EQ_lidar']+'.laz'),shift,workspace+Data_folder+filenames['core_points']+'.laz')\n",
    "cc.m3c2(commande,params_file_3Dm3c2,workspace,Data_folder,filenames,file_extension='.las')\n",
    "os.rename(workspace+Data_folder+list(filenames.values())[0]+'_M3C2.las',workspace+workflow_folder+'3D_M3C2_temp.las')"
   ]
  },
  {
   "cell_type": "code",
   "execution_count": 5,
   "metadata": {},
   "outputs": [],
   "source": [
    "# Extract nan from distance uncertainty scalar field \n",
    "fc.split_SF(path=workspace+workflow_folder,SF='distance uncertainty')"
   ]
  },
  {
   "cell_type": "code",
   "execution_count": 6,
   "metadata": {},
   "outputs": [],
   "source": [
    "# Compute 3D-M3C2\n",
    "filenames['core_points'] = '3D_M3C2_nan_temp'\n",
    "commande = cc.open_file(cc.open_file(cc.open_file(commande1,shift,workspace+Data_folder+filenames['pre_EQ_lidar']+'.laz'),shift,workspace+Data_folder+filenames['post_EQ_lidar']+'.laz'),shift,workspace+workflow_folder+filenames['core_points']+'.asc')\n",
    "cc.m3c2(commande,params_file_m3c2_nan,workspace,Data_folder,filenames,file_extension='.asc')\n",
    "os.rename(workspace+Data_folder+list(filenames.values())[0]+'_M3C2.asc',workspace+workflow_folder+'3D_M3C2_nan_d(10)_temp.asc')"
   ]
  },
  {
   "cell_type": "code",
   "execution_count": 7,
   "metadata": {},
   "outputs": [],
   "source": [
    "# Merge both the 3D M3C2 on NaN and the first 3D M3C2 \n",
    "commande = cc.open_file(cc.open_file(commande0,shift,workspace+workflow_folder+'3D_M3C2_split_temp.asc'),shift,workspace+workflow_folder+'3D_M3C2_nan_d(10)_temp.asc')\n",
    "cc.merge_clouds(commande)\n",
    "os.rename(workspace+workflow_folder+'3D_M3C2_split_temp'+'_MERGED.las',workspace+workflow_folder+'3D_M3C2.las')\n",
    "# Delete all temp files\n",
    "osf.delete_file_extension(workspace+workflow_folder,'.asc')"
   ]
  },
  {
   "cell_type": "code",
   "execution_count": 19,
   "metadata": {},
   "outputs": [],
   "source": [
    "# Extract significant changes (SC)\n",
    "commande= cc.open_file(commande0,shift,workspace+workflow_folder+'3D_M3C2.las')\n",
    "cc.filter_SF(commande,indexSF=2,min=1,max=2)\n",
    "os.rename(workspace+workflow_folder+'3D_M3C2_FILTERED_[1_2].las',workspace+workflow_folder+'Significant_change.las')"
   ]
  },
  {
   "cell_type": "markdown",
   "metadata": {},
   "source": [
    "<div class=\"alert alert-block alert-info\">\n",
    "<b>Info:</b> \n",
    "Here, the significant changes cloud is filtered manually to exclude fluvial erosion and deposition. The resulting cloud is given and will be used in the next steps.\n",
    "</div>\n"
   ]
  },
  {
   "cell_type": "markdown",
   "metadata": {},
   "source": [
    "#### Extract negative (erosion) and positive (deposits) distances "
   ]
  },
  {
   "cell_type": "markdown",
   "metadata": {},
   "source": [
    "<table><tr>\n",
    "    <td> <img src=\"figures/Master_files_3.png\" width=600 height=600/> </td>\n",
    "</tr></table>"
   ]
  },
  {
   "cell_type": "code",
   "execution_count": 34,
   "metadata": {},
   "outputs": [],
   "source": [
    "osf.open_folder(workspace+workflow_folder+segmentation_folder)"
   ]
  },
  {
   "cell_type": "code",
   "execution_count": 35,
   "metadata": {},
   "outputs": [],
   "source": [
    "for i in range(0,len(Extraction_folder)):\n",
    "    osf.open_folder(workspace+workflow_folder+segmentation_folder+list(Extraction_folder.values())[i])\n",
    "    commande = cc.open_file(commande1,shift,workspace+workflow_folder+'significant_change_river_filtered.las')\n",
    "    if i == 0:\n",
    "        cc.filter_SF(commande,indexSF=0,min=-30,max=0)\n",
    "        os.rename(workspace+workflow_folder+'significant_change_river_filtered_FILTERED_[-30_0].asc',workspace+workflow_folder+segmentation_folder+list(Extraction_folder.values())[i]+list(Extraction_filenames.values())[i]+'.asc')\n",
    "    else:\n",
    "        cc.filter_SF(commande,indexSF=0,min=0,max=30)\n",
    "        os.rename(workspace+workflow_folder+'significant_change_river_filtered_FILTERED_[0_30].asc',workspace+workflow_folder+segmentation_folder+list(Extraction_folder.values())[i]+list(Extraction_filenames.values())[i]+'.asc')"
   ]
  },
  {
   "cell_type": "markdown",
   "metadata": {},
   "source": [
    "### Volume estimation\n"
   ]
  },
  {
   "cell_type": "markdown",
   "metadata": {},
   "source": [
    "<table><tr>\n",
    "    <td> <img src=\"figures/Master_files_4.png\" width=600 height=600/> </td>\n",
    "</tr></table>"
   ]
  },
  {
   "cell_type": "code",
   "execution_count": 36,
   "metadata": {},
   "outputs": [],
   "source": [
    "# Add \"_3D\" suffix to all columns \n",
    "fc.add_suffix_and_columns(workspace+workflow_folder+segmentation_folder,Extraction_folder,Extraction_filenames)"
   ]
  },
  {
   "cell_type": "code",
   "execution_count": 37,
   "metadata": {},
   "outputs": [],
   "source": [
    "# Compute Vertical-M3C2\n",
    "osf.open_folder(workspace+workflow_folder)\n",
    "for i in range(0,len(Extraction_folder)):\n",
    "    filenames['core_points'] = list(Extraction_filenames.values())[i]\n",
    "    commande = cc.open_file(cc.open_file(cc.open_file(commande0,shift,workspace+Data_folder+filenames['pre_EQ_lidar']+'.laz'),shift,workspace+Data_folder+filenames['post_EQ_lidar']+'.laz'),shift,workspace+workflow_folder+segmentation_folder+list(Extraction_folder.values())[i]+filenames['core_points']+'.asc')\n",
    "    cc.m3c2(commande,params_file_Vm3c2,workspace,Data_folder,filenames,'.las')\n",
    "    os.rename(workspace+Data_folder+list(filenames.values())[0]+'_M3C2.las',workspace+workflow_folder+segmentation_folder+list(Extraction_folder.values())[i]+'Vertical_M3C2.las')"
   ]
  },
  {
   "cell_type": "markdown",
   "metadata": {},
   "source": [
    "###  Segmentation by connected components\n"
   ]
  },
  {
   "cell_type": "markdown",
   "metadata": {},
   "source": [
    "<table><tr>\n",
    "    <td> <img src=\"figures/Master_files_5.png\" width=800 height=800/> </td>\n",
    "</tr></table>"
   ]
  },
  {
   "cell_type": "code",
   "execution_count": 3,
   "metadata": {},
   "outputs": [],
   "source": [
    "commande2 = 'CloudCompare -SILENT -C_EXPORT_FMT BIN -AUTO_SAVE off -NO_TIMESTAMP '"
   ]
  },
  {
   "cell_type": "code",
   "execution_count": 4,
   "metadata": {},
   "outputs": [],
   "source": [
    "for i in range(0,len(Extraction_folder)):\n",
    "    osf.open_folder(workspace+workflow_folder+segmentation_folder+list(Extraction_folder.values())[i]+list(individual_outputs_folder.values())[i])\n",
    "    # Create individual clouds and store the result in a .bin file\n",
    "    commande = cc.open_file(commande2,shift,workspace+workflow_folder+segmentation_folder+list(Extraction_folder.values())[i]+'Vertical_M3C2.las')\n",
    "    cc.connected_component(commande,octree_level,min_point_per_component)\n",
    "    os.rename(workspace+workflow_folder+segmentation_folder+list(Extraction_folder.values())[i]+'AllClouds.bin',workspace+workflow_folder+segmentation_folder+list(Extraction_folder.values())[i]+list(individual_outputs_folder.values())[i]+list(individual_outputs_filenames.values())[i]+'.bin')\n",
    "    # Merge all individual clouds\n",
    "    commande = cc.open_file(commande0,shift,workspace+workflow_folder+segmentation_folder+list(Extraction_folder.values())[i]+list(individual_outputs_folder.values())[i]+list(individual_outputs_filenames.values())[i]+'.bin')\n",
    "    cc.merge_clouds(commande)\n",
    "    os.rename(workspace+workflow_folder+segmentation_folder+list(Extraction_folder.values())[i]+list(individual_outputs_folder.values())[i]+list(individual_outputs_filenames.values())[i]+'_MERGED_0.las',workspace+workflow_folder+segmentation_folder+list(Extraction_folder.values())[i]+list(individual_outputs_folder.values())[i]+list(individual_outputs_filenames.values())[i]+'_merged.las')"
   ]
  },
  {
   "cell_type": "markdown",
   "metadata": {},
   "source": [
    "<div class=\"alert alert-block alert-warning\">\n",
    "<b>IMPORTANT:</b> In this study, the cloud number <b>#5497</b> in sources has been removed as it has been identified as resulting from a flight line imperfect alignement.\n",
    "</div> "
   ]
  },
  {
   "cell_type": "markdown",
   "metadata": {},
   "source": [
    "<div class=\"alert alert-block alert-info\">\n",
    "<b>Tip:</b> \n",
    "Once done, you can then open the file \"individual_sources.bin\" or \"individual_deposits.bin\" in Cloudcompare. To save the information of each point cloud, select them and click on: *Tools > Batch export > Export cloud info*. .\n",
    "</div>"
   ]
  },
  {
   "cell_type": "code",
   "execution_count": 12,
   "metadata": {},
   "outputs": [
    {
     "ename": "SystemExit",
     "evalue": "Stop right there!",
     "output_type": "error",
     "traceback": [
      "An exception has occurred, use %tb to see the full traceback.\n",
      "\u001b[1;31mSystemExit\u001b[0m\u001b[1;31m:\u001b[0m Stop right there!\n"
     ]
    }
   ],
   "source": [
    "raise SystemExit(\"The workflow stops right here!\")"
   ]
  },
  {
   "cell_type": "markdown",
   "metadata": {},
   "source": [
    "# Results: Landslide analysis\n",
    "<hr size=\"1\"></hr>"
   ]
  },
  {
   "cell_type": "markdown",
   "metadata": {},
   "source": [
    "## Geomorphic change and landslide detection inventory"
   ]
  },
  {
   "cell_type": "code",
   "execution_count": 20,
   "metadata": {},
   "outputs": [],
   "source": [
    "path_clouds_infos = 'D:/Beyond_2D_inventories_synoptic_3D_landslide_volume_calculation_from_repeat_LiDAR_data/res/Supp._analysis/interpolation/'\n",
    "filenames = {'Sources':'Sources_informations.csv','Deposits':'Deposits_informations.csv'}"
   ]
  },
  {
   "cell_type": "code",
   "execution_count": 21,
   "metadata": {},
   "outputs": [
    {
     "data": {
      "text/html": [
       "<div>\n",
       "<style scoped>\n",
       "    .dataframe tbody tr th:only-of-type {\n",
       "        vertical-align: middle;\n",
       "    }\n",
       "\n",
       "    .dataframe tbody tr th {\n",
       "        vertical-align: top;\n",
       "    }\n",
       "\n",
       "    .dataframe thead th {\n",
       "        text-align: right;\n",
       "    }\n",
       "</style>\n",
       "<table border=\"1\" class=\"dataframe\">\n",
       "  <thead>\n",
       "    <tr style=\"text-align: right;\">\n",
       "      <th></th>\n",
       "      <th>Number of sources/deposits</th>\n",
       "      <th>Range of area (m² ; [min,max])</th>\n",
       "      <th>Total area (m²)</th>\n",
       "      <th>Range of volume (m$^3$)</th>\n",
       "      <th>Total volume (m$^3$)</th>\n",
       "      <th>3D uncertainty on total volume</th>\n",
       "    </tr>\n",
       "  </thead>\n",
       "  <tbody>\n",
       "    <tr>\n",
       "      <th>Sources</th>\n",
       "      <td>1431</td>\n",
       "      <td>[20, 42650]</td>\n",
       "      <td>438124</td>\n",
       "      <td>[6.97, 171175.0]</td>\n",
       "      <td>-908055.0</td>\n",
       "      <td>215640.0</td>\n",
       "    </tr>\n",
       "    <tr>\n",
       "      <th>Deposits</th>\n",
       "      <td>853</td>\n",
       "      <td>[20, 32513]</td>\n",
       "      <td>376363</td>\n",
       "      <td>[7.18, 154599.0]</td>\n",
       "      <td>1008626.0</td>\n",
       "      <td>172745.0</td>\n",
       "    </tr>\n",
       "  </tbody>\n",
       "</table>\n",
       "</div>"
      ],
      "text/plain": [
       "          Number of sources/deposits Range of area (m² ; [min,max])  \\\n",
       "Sources                         1431                    [20, 42650]   \n",
       "Deposits                         853                    [20, 32513]   \n",
       "\n",
       "          Total area (m²) Range of volume (m$^3$)  Total volume (m$^3$)  \\\n",
       "Sources            438124        [6.97, 171175.0]             -908055.0   \n",
       "Deposits           376363        [7.18, 154599.0]             1008626.0   \n",
       "\n",
       "          3D uncertainty on total volume  \n",
       "Sources                         215640.0  \n",
       "Deposits                        172745.0  "
      ]
     },
     "execution_count": 21,
     "metadata": {},
     "output_type": "execute_result"
    }
   ],
   "source": [
    "fc.read_landslide_stats(path_clouds_infos,filenames)"
   ]
  }
 ],
 "metadata": {
  "kernelspec": {
   "display_name": "Python 3",
   "language": "python",
   "name": "python3"
  },
  "language_info": {
   "codemirror_mode": {
    "name": "ipython",
    "version": 3
   },
   "file_extension": ".py",
   "mimetype": "text/x-python",
   "name": "python",
   "nbconvert_exporter": "python",
   "pygments_lexer": "ipython3",
   "version": "3.7.6"
  }
 },
 "nbformat": 4,
 "nbformat_minor": 4
}
