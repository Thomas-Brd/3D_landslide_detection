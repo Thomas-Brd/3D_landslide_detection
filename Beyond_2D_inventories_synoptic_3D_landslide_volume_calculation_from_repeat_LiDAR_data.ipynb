{
 "cells": [
  {
   "cell_type": "markdown",
   "metadata": {},
   "source": [
    "# <center> Beyond 2D inventories: synoptic 3D landslide volume calculation from repeat LiDAR data - Workflow</center>"
   ]
  },
  {
   "cell_type": "code",
   "execution_count": 1,
   "metadata": {},
   "outputs": [],
   "source": [
    "import os\n",
    "import importlib\n",
    "import numpy as np\n",
    "import pandas as pd\n",
    "import scripts.cloudcompare as cc\n",
    "import scripts.os_functions as osf\n",
    "import scripts.functions as fc"
   ]
  },
  {
   "cell_type": "markdown",
   "metadata": {},
   "source": [
    "# Methods: 3D point cloud differencing to detect and measure landslides"
   ]
  },
  {
   "cell_type": "markdown",
   "metadata": {},
   "source": [
    "## 3D Landslide mapping workflow\n",
    "<hr size=\"1\"></hr>"
   ]
  },
  {
   "cell_type": "markdown",
   "metadata": {},
   "source": [
    "### Master files"
   ]
  },
  {
   "cell_type": "markdown",
   "metadata": {},
   "source": [
    "<table><tr>\n",
    "    <td> <img src=\"figures/Master_files.png\" width=400 height=400/> </td>\n",
    "</tr></table>"
   ]
  },
  {
   "cell_type": "code",
   "execution_count": 2,
   "metadata": {},
   "outputs": [],
   "source": [
    "from scripts.Work_environment_and_settings import *"
   ]
  },
  {
   "cell_type": "markdown",
   "metadata": {},
   "source": [
    "### Geomorphic change detection\n"
   ]
  },
  {
   "cell_type": "markdown",
   "metadata": {},
   "source": [
    "<table><tr>\n",
    "    <td> <img src=\"figures/Master_files_2.png\" width=400 height=400/> </td>\n",
    "</tr></table>"
   ]
  },
  {
   "cell_type": "code",
   "execution_count": 3,
   "metadata": {},
   "outputs": [],
   "source": [
    "osf.open_folder(workspace+workflow_folder)\n",
    "commande1 = 'CloudCompare -SILENT -C_EXPORT_FMT ASC -SEP COMMA  -ADD_HEADER -AUTO_SAVE off -NO_TIMESTAMP'"
   ]
  },
  {
   "cell_type": "code",
   "execution_count": 6,
   "metadata": {
    "collapsed": true,
    "jupyter": {
     "outputs_hidden": true
    }
   },
   "outputs": [
    {
     "ename": "KeyboardInterrupt",
     "evalue": "",
     "output_type": "error",
     "traceback": [
      "\u001b[1;31m---------------------------------------------------------------------------\u001b[0m",
      "\u001b[1;31mKeyboardInterrupt\u001b[0m                         Traceback (most recent call last)",
      "\u001b[1;32m<ipython-input-6-75fde514b5e3>\u001b[0m in \u001b[0;36m<module>\u001b[1;34m\u001b[0m\n\u001b[0;32m      1\u001b[0m \u001b[1;31m# Compute 3D-M3C2\u001b[0m\u001b[1;33m\u001b[0m\u001b[1;33m\u001b[0m\u001b[1;33m\u001b[0m\u001b[0m\n\u001b[0;32m      2\u001b[0m \u001b[0mcommande\u001b[0m \u001b[1;33m=\u001b[0m \u001b[0mcc\u001b[0m\u001b[1;33m.\u001b[0m\u001b[0mopen_file\u001b[0m\u001b[1;33m(\u001b[0m\u001b[0mcc\u001b[0m\u001b[1;33m.\u001b[0m\u001b[0mopen_file\u001b[0m\u001b[1;33m(\u001b[0m\u001b[0mcc\u001b[0m\u001b[1;33m.\u001b[0m\u001b[0mopen_file\u001b[0m\u001b[1;33m(\u001b[0m\u001b[0mcommande0\u001b[0m\u001b[1;33m,\u001b[0m\u001b[0mshift\u001b[0m\u001b[1;33m,\u001b[0m\u001b[0mworkspace\u001b[0m\u001b[1;33m+\u001b[0m\u001b[0mData_folder\u001b[0m\u001b[1;33m+\u001b[0m\u001b[0mfilenames\u001b[0m\u001b[1;33m[\u001b[0m\u001b[1;34m'pre_EQ_lidar'\u001b[0m\u001b[1;33m]\u001b[0m\u001b[1;33m+\u001b[0m\u001b[1;34m'.laz'\u001b[0m\u001b[1;33m)\u001b[0m\u001b[1;33m,\u001b[0m\u001b[0mshift\u001b[0m\u001b[1;33m,\u001b[0m\u001b[0mworkspace\u001b[0m\u001b[1;33m+\u001b[0m\u001b[0mData_folder\u001b[0m\u001b[1;33m+\u001b[0m\u001b[0mfilenames\u001b[0m\u001b[1;33m[\u001b[0m\u001b[1;34m'post_EQ_lidar'\u001b[0m\u001b[1;33m]\u001b[0m\u001b[1;33m+\u001b[0m\u001b[1;34m'.laz'\u001b[0m\u001b[1;33m)\u001b[0m\u001b[1;33m,\u001b[0m\u001b[0mshift\u001b[0m\u001b[1;33m,\u001b[0m\u001b[0mworkspace\u001b[0m\u001b[1;33m+\u001b[0m\u001b[0mData_folder\u001b[0m\u001b[1;33m+\u001b[0m\u001b[0mfilenames\u001b[0m\u001b[1;33m[\u001b[0m\u001b[1;34m'core_points'\u001b[0m\u001b[1;33m]\u001b[0m\u001b[1;33m+\u001b[0m\u001b[1;34m'.laz'\u001b[0m\u001b[1;33m)\u001b[0m\u001b[1;33m\u001b[0m\u001b[1;33m\u001b[0m\u001b[0m\n\u001b[1;32m----> 3\u001b[1;33m \u001b[0mcc\u001b[0m\u001b[1;33m.\u001b[0m\u001b[0mm3c2\u001b[0m\u001b[1;33m(\u001b[0m\u001b[0mcommande\u001b[0m\u001b[1;33m,\u001b[0m\u001b[0mparams_file_3Dm3c2\u001b[0m\u001b[1;33m,\u001b[0m\u001b[0mworkspace\u001b[0m\u001b[1;33m,\u001b[0m\u001b[0mData_folder\u001b[0m\u001b[1;33m,\u001b[0m\u001b[0mfilenames\u001b[0m\u001b[1;33m,\u001b[0m\u001b[0mfile_extension\u001b[0m\u001b[1;33m=\u001b[0m\u001b[1;34m'.las'\u001b[0m\u001b[1;33m)\u001b[0m\u001b[1;33m\u001b[0m\u001b[1;33m\u001b[0m\u001b[0m\n\u001b[0m\u001b[0;32m      4\u001b[0m \u001b[0mos\u001b[0m\u001b[1;33m.\u001b[0m\u001b[0mrename\u001b[0m\u001b[1;33m(\u001b[0m\u001b[0mworkspace\u001b[0m\u001b[1;33m+\u001b[0m\u001b[0mData_folder\u001b[0m\u001b[1;33m+\u001b[0m\u001b[0mlist\u001b[0m\u001b[1;33m(\u001b[0m\u001b[0mfilenames\u001b[0m\u001b[1;33m.\u001b[0m\u001b[0mvalues\u001b[0m\u001b[1;33m(\u001b[0m\u001b[1;33m)\u001b[0m\u001b[1;33m)\u001b[0m\u001b[1;33m[\u001b[0m\u001b[1;36m0\u001b[0m\u001b[1;33m]\u001b[0m\u001b[1;33m+\u001b[0m\u001b[1;34m'_M3C2.las'\u001b[0m\u001b[1;33m,\u001b[0m\u001b[0mworkspace\u001b[0m\u001b[1;33m+\u001b[0m\u001b[0mworkflow_folder\u001b[0m\u001b[1;33m+\u001b[0m\u001b[1;34m'3D_M3C2_temp.las'\u001b[0m\u001b[1;33m)\u001b[0m\u001b[1;33m\u001b[0m\u001b[1;33m\u001b[0m\u001b[0m\n",
      "\u001b[1;32mD:\\Beyond_2D_inventories_synoptic_3D_landslide_volume_calculation_from_repeat_LiDAR_data\\scripts\\cloudcompare.py\u001b[0m in \u001b[0;36mm3c2\u001b[1;34m(commande, params_file, workspace, Data_folder, filenames, file_extension)\u001b[0m\n\u001b[0;32m     43\u001b[0m     \"\"\"\n\u001b[0;32m     44\u001b[0m     \u001b[0mcommande\u001b[0m\u001b[1;33m+=\u001b[0m\u001b[1;34m\" -M3C2 \"\u001b[0m\u001b[1;33m+\u001b[0m\u001b[0mparams_file\u001b[0m \u001b[1;33m+\u001b[0m \u001b[1;34m\" -save_clouds \"\u001b[0m\u001b[1;33m\u001b[0m\u001b[1;33m\u001b[0m\u001b[0m\n\u001b[1;32m---> 45\u001b[1;33m     \u001b[0msubprocess\u001b[0m\u001b[1;33m.\u001b[0m\u001b[0mcall\u001b[0m\u001b[1;33m(\u001b[0m\u001b[0mcommande\u001b[0m\u001b[1;33m)\u001b[0m\u001b[1;33m\u001b[0m\u001b[1;33m\u001b[0m\u001b[0m\n\u001b[0m\u001b[0;32m     46\u001b[0m     \u001b[1;31m# Keep only M3C2 file\u001b[0m\u001b[1;33m\u001b[0m\u001b[1;33m\u001b[0m\u001b[1;33m\u001b[0m\u001b[0m\n\u001b[0;32m     47\u001b[0m     \u001b[1;32mif\u001b[0m \u001b[0mlist\u001b[0m\u001b[1;33m(\u001b[0m\u001b[0mfilenames\u001b[0m\u001b[1;33m.\u001b[0m\u001b[0mvalues\u001b[0m\u001b[1;33m(\u001b[0m\u001b[1;33m)\u001b[0m\u001b[1;33m)\u001b[0m\u001b[1;33m[\u001b[0m\u001b[1;33m-\u001b[0m\u001b[1;36m1\u001b[0m\u001b[1;33m]\u001b[0m\u001b[1;33m!=\u001b[0m\u001b[1;34m'core_points'\u001b[0m\u001b[1;33m:\u001b[0m\u001b[1;33m\u001b[0m\u001b[1;33m\u001b[0m\u001b[0m\n",
      "\u001b[1;32m~\\Anaconda3-64bit\\lib\\subprocess.py\u001b[0m in \u001b[0;36mcall\u001b[1;34m(timeout, *popenargs, **kwargs)\u001b[0m\n\u001b[0;32m    339\u001b[0m     \u001b[1;32mwith\u001b[0m \u001b[0mPopen\u001b[0m\u001b[1;33m(\u001b[0m\u001b[1;33m*\u001b[0m\u001b[0mpopenargs\u001b[0m\u001b[1;33m,\u001b[0m \u001b[1;33m**\u001b[0m\u001b[0mkwargs\u001b[0m\u001b[1;33m)\u001b[0m \u001b[1;32mas\u001b[0m \u001b[0mp\u001b[0m\u001b[1;33m:\u001b[0m\u001b[1;33m\u001b[0m\u001b[1;33m\u001b[0m\u001b[0m\n\u001b[0;32m    340\u001b[0m         \u001b[1;32mtry\u001b[0m\u001b[1;33m:\u001b[0m\u001b[1;33m\u001b[0m\u001b[1;33m\u001b[0m\u001b[0m\n\u001b[1;32m--> 341\u001b[1;33m             \u001b[1;32mreturn\u001b[0m \u001b[0mp\u001b[0m\u001b[1;33m.\u001b[0m\u001b[0mwait\u001b[0m\u001b[1;33m(\u001b[0m\u001b[0mtimeout\u001b[0m\u001b[1;33m=\u001b[0m\u001b[0mtimeout\u001b[0m\u001b[1;33m)\u001b[0m\u001b[1;33m\u001b[0m\u001b[1;33m\u001b[0m\u001b[0m\n\u001b[0m\u001b[0;32m    342\u001b[0m         \u001b[1;32mexcept\u001b[0m\u001b[1;33m:\u001b[0m  \u001b[1;31m# Including KeyboardInterrupt, wait handled that.\u001b[0m\u001b[1;33m\u001b[0m\u001b[1;33m\u001b[0m\u001b[0m\n\u001b[0;32m    343\u001b[0m             \u001b[0mp\u001b[0m\u001b[1;33m.\u001b[0m\u001b[0mkill\u001b[0m\u001b[1;33m(\u001b[0m\u001b[1;33m)\u001b[0m\u001b[1;33m\u001b[0m\u001b[1;33m\u001b[0m\u001b[0m\n",
      "\u001b[1;32m~\\Anaconda3-64bit\\lib\\subprocess.py\u001b[0m in \u001b[0;36mwait\u001b[1;34m(self, timeout)\u001b[0m\n\u001b[0;32m   1017\u001b[0m             \u001b[0mendtime\u001b[0m \u001b[1;33m=\u001b[0m \u001b[0m_time\u001b[0m\u001b[1;33m(\u001b[0m\u001b[1;33m)\u001b[0m \u001b[1;33m+\u001b[0m \u001b[0mtimeout\u001b[0m\u001b[1;33m\u001b[0m\u001b[1;33m\u001b[0m\u001b[0m\n\u001b[0;32m   1018\u001b[0m         \u001b[1;32mtry\u001b[0m\u001b[1;33m:\u001b[0m\u001b[1;33m\u001b[0m\u001b[1;33m\u001b[0m\u001b[0m\n\u001b[1;32m-> 1019\u001b[1;33m             \u001b[1;32mreturn\u001b[0m \u001b[0mself\u001b[0m\u001b[1;33m.\u001b[0m\u001b[0m_wait\u001b[0m\u001b[1;33m(\u001b[0m\u001b[0mtimeout\u001b[0m\u001b[1;33m=\u001b[0m\u001b[0mtimeout\u001b[0m\u001b[1;33m)\u001b[0m\u001b[1;33m\u001b[0m\u001b[1;33m\u001b[0m\u001b[0m\n\u001b[0m\u001b[0;32m   1020\u001b[0m         \u001b[1;32mexcept\u001b[0m \u001b[0mKeyboardInterrupt\u001b[0m\u001b[1;33m:\u001b[0m\u001b[1;33m\u001b[0m\u001b[1;33m\u001b[0m\u001b[0m\n\u001b[0;32m   1021\u001b[0m             \u001b[1;31m# https://bugs.python.org/issue25942\u001b[0m\u001b[1;33m\u001b[0m\u001b[1;33m\u001b[0m\u001b[1;33m\u001b[0m\u001b[0m\n",
      "\u001b[1;32m~\\Anaconda3-64bit\\lib\\subprocess.py\u001b[0m in \u001b[0;36m_wait\u001b[1;34m(self, timeout)\u001b[0m\n\u001b[0;32m   1257\u001b[0m                 \u001b[1;31m# API note: Returns immediately if timeout_millis == 0.\u001b[0m\u001b[1;33m\u001b[0m\u001b[1;33m\u001b[0m\u001b[1;33m\u001b[0m\u001b[0m\n\u001b[0;32m   1258\u001b[0m                 result = _winapi.WaitForSingleObject(self._handle,\n\u001b[1;32m-> 1259\u001b[1;33m                                                      timeout_millis)\n\u001b[0m\u001b[0;32m   1260\u001b[0m                 \u001b[1;32mif\u001b[0m \u001b[0mresult\u001b[0m \u001b[1;33m==\u001b[0m \u001b[0m_winapi\u001b[0m\u001b[1;33m.\u001b[0m\u001b[0mWAIT_TIMEOUT\u001b[0m\u001b[1;33m:\u001b[0m\u001b[1;33m\u001b[0m\u001b[1;33m\u001b[0m\u001b[0m\n\u001b[0;32m   1261\u001b[0m                     \u001b[1;32mraise\u001b[0m \u001b[0mTimeoutExpired\u001b[0m\u001b[1;33m(\u001b[0m\u001b[0mself\u001b[0m\u001b[1;33m.\u001b[0m\u001b[0margs\u001b[0m\u001b[1;33m,\u001b[0m \u001b[0mtimeout\u001b[0m\u001b[1;33m)\u001b[0m\u001b[1;33m\u001b[0m\u001b[1;33m\u001b[0m\u001b[0m\n",
      "\u001b[1;31mKeyboardInterrupt\u001b[0m: "
     ]
    }
   ],
   "source": [
    "# Compute 3D-M3C2\n",
    "commande = cc.open_file(cc.open_file(cc.open_file(commande0,shift,workspace+Data_folder+filenames['pre_EQ_lidar']+'.laz'),shift,workspace+Data_folder+filenames['post_EQ_lidar']+'.laz'),shift,workspace+Data_folder+filenames['core_points']+'.laz')\n",
    "cc.m3c2(commande,params_file_3Dm3c2,workspace,Data_folder,filenames,file_extension='.las')\n",
    "os.rename(workspace+Data_folder+list(filenames.values())[0]+'_M3C2.las',workspace+workflow_folder+'3D_M3C2_temp.las')"
   ]
  },
  {
   "cell_type": "code",
   "execution_count": 5,
   "metadata": {},
   "outputs": [],
   "source": [
    "# Extract nan from distance uncertainty scalar field \n",
    "fc.split_SF(path=workspace+workflow_folder,SF='distance uncertainty')"
   ]
  },
  {
   "cell_type": "code",
   "execution_count": 6,
   "metadata": {},
   "outputs": [],
   "source": [
    "# Compute 3D-M3C2\n",
    "filenames['core_points'] = '3D_M3C2_nan_temp'\n",
    "commande = cc.open_file(cc.open_file(cc.open_file(commande1,shift,workspace+Data_folder+filenames['pre_EQ_lidar']+'.laz'),shift,workspace+Data_folder+filenames['post_EQ_lidar']+'.laz'),shift,workspace+workflow_folder+filenames['core_points']+'.asc')\n",
    "cc.m3c2(commande,params_file_m3c2_nan,workspace,Data_folder,filenames,file_extension='.asc')\n",
    "os.rename(workspace+Data_folder+list(filenames.values())[0]+'_M3C2.asc',workspace+workflow_folder+'3D_M3C2_nan_d(10)_temp.asc')"
   ]
  },
  {
   "cell_type": "code",
   "execution_count": 7,
   "metadata": {},
   "outputs": [],
   "source": [
    "# Merge both the 3D M3C2 on NaN and the first 3D M3C2 \n",
    "commande = cc.open_file(cc.open_file(commande0,shift,workspace+workflow_folder+'3D_M3C2_split_temp.asc'),shift,workspace+workflow_folder+'3D_M3C2_nan_d(10)_temp.asc')\n",
    "cc.merge_clouds(commande)\n",
    "os.rename(workspace+workflow_folder+'3D_M3C2_split_temp'+'_MERGED.las',workspace+workflow_folder+'3D_M3C2.las')\n",
    "# Delete all temp files\n",
    "osf.delete_file_extension(workspace+workflow_folder,'.asc')"
   ]
  },
  {
   "cell_type": "code",
   "execution_count": 19,
   "metadata": {},
   "outputs": [],
   "source": [
    "# Extract significant changes (SC)\n",
    "commande= cc.open_file(commande0,shift,workspace+workflow_folder+'3D_M3C2.las')\n",
    "cc.filter_SF(commande,indexSF=2,min=1,max=2)\n",
    "os.rename(workspace+workflow_folder+'3D_M3C2_FILTERED_[1_2].las',workspace+workflow_folder+'Significant_change.las')"
   ]
  },
  {
   "cell_type": "markdown",
   "metadata": {},
   "source": [
    "<div class=\"alert alert-block alert-info\">\n",
    "<b>Info:</b> \n",
    "Here, the significant changes cloud is filtered manually to exclude fluvial erosion and deposition. The resulting cloud is given and will be used in the next steps.\n",
    "</div>\n"
   ]
  },
  {
   "cell_type": "markdown",
   "metadata": {},
   "source": [
    "#### Extract negative (erosion) and positive (deposits) distances "
   ]
  },
  {
   "cell_type": "markdown",
   "metadata": {},
   "source": [
    "<table><tr>\n",
    "    <td> <img src=\"figures/Master_files_3.png\" width=600 height=600/> </td>\n",
    "</tr></table>"
   ]
  },
  {
   "cell_type": "code",
   "execution_count": 34,
   "metadata": {},
   "outputs": [],
   "source": [
    "osf.open_folder(workspace+workflow_folder+segmentation_folder)"
   ]
  },
  {
   "cell_type": "code",
   "execution_count": 35,
   "metadata": {},
   "outputs": [],
   "source": [
    "for i in range(0,len(Extraction_folder)):\n",
    "    osf.open_folder(workspace+workflow_folder+segmentation_folder+list(Extraction_folder.values())[i])\n",
    "    commande = cc.open_file(commande1,shift,workspace+workflow_folder+'significant_change_river_filtered.las')\n",
    "    if i == 0:\n",
    "        cc.filter_SF(commande,indexSF=0,min=-30,max=0)\n",
    "        os.rename(workspace+workflow_folder+'significant_change_river_filtered_FILTERED_[-30_0].asc',workspace+workflow_folder+segmentation_folder+list(Extraction_folder.values())[i]+list(Extraction_filenames.values())[i]+'.asc')\n",
    "    else:\n",
    "        cc.filter_SF(commande,indexSF=0,min=0,max=30)\n",
    "        os.rename(workspace+workflow_folder+'significant_change_river_filtered_FILTERED_[0_30].asc',workspace+workflow_folder+segmentation_folder+list(Extraction_folder.values())[i]+list(Extraction_filenames.values())[i]+'.asc')"
   ]
  },
  {
   "cell_type": "markdown",
   "metadata": {},
   "source": [
    "### Volume estimation\n"
   ]
  },
  {
   "cell_type": "markdown",
   "metadata": {},
   "source": [
    "<table><tr>\n",
    "    <td> <img src=\"figures/Master_files_4.png\" width=600 height=600/> </td>\n",
    "</tr></table>"
   ]
  },
  {
   "cell_type": "code",
   "execution_count": 36,
   "metadata": {},
   "outputs": [],
   "source": [
    "# Add \"_3D\" suffix to all columns \n",
    "fc.add_suffix_and_columns(workspace+workflow_folder+segmentation_folder,Extraction_folder,Extraction_filenames)"
   ]
  },
  {
   "cell_type": "code",
   "execution_count": 37,
   "metadata": {},
   "outputs": [],
   "source": [
    "# Compute Vertical-M3C2\n",
    "osf.open_folder(workspace+workflow_folder)\n",
    "for i in range(0,len(Extraction_folder)):\n",
    "    filenames['core_points'] = list(Extraction_filenames.values())[i]\n",
    "    commande = cc.open_file(cc.open_file(cc.open_file(commande0,shift,workspace+Data_folder+filenames['pre_EQ_lidar']+'.laz'),shift,workspace+Data_folder+filenames['post_EQ_lidar']+'.laz'),shift,workspace+workflow_folder+segmentation_folder+list(Extraction_folder.values())[i]+filenames['core_points']+'.asc')\n",
    "    cc.m3c2(commande,params_file_Vm3c2,workspace,Data_folder,filenames,'.las')\n",
    "    os.rename(workspace+Data_folder+list(filenames.values())[0]+'_M3C2.las',workspace+workflow_folder+segmentation_folder+list(Extraction_folder.values())[i]+'Vertical_M3C2.las')"
   ]
  },
  {
   "cell_type": "markdown",
   "metadata": {},
   "source": [
    "###  Segmentation by connected components\n"
   ]
  },
  {
   "cell_type": "markdown",
   "metadata": {},
   "source": [
    "<table><tr>\n",
    "    <td> <img src=\"figures/Master_files_5.png\" width=800 height=800/> </td>\n",
    "</tr></table>"
   ]
  },
  {
   "cell_type": "code",
   "execution_count": 3,
   "metadata": {},
   "outputs": [],
   "source": [
    "commande2 = 'CloudCompare -SILENT -C_EXPORT_FMT BIN -AUTO_SAVE off -NO_TIMESTAMP '"
   ]
  },
  {
   "cell_type": "code",
   "execution_count": 4,
   "metadata": {},
   "outputs": [],
   "source": [
    "for i in range(0,len(Extraction_folder)):\n",
    "    osf.open_folder(workspace+workflow_folder+segmentation_folder+list(Extraction_folder.values())[i]+list(individual_outputs_folder.values())[i])\n",
    "    # Create individual clouds and store the result in a .bin file\n",
    "    commande = cc.open_file(commande2,shift,workspace+workflow_folder+segmentation_folder+list(Extraction_folder.values())[i]+'Vertical_M3C2.las')\n",
    "    cc.connected_component(commande,octree_level,min_point_per_component)\n",
    "    os.rename(workspace+workflow_folder+segmentation_folder+list(Extraction_folder.values())[i]+'AllClouds.bin',workspace+workflow_folder+segmentation_folder+list(Extraction_folder.values())[i]+list(individual_outputs_folder.values())[i]+list(individual_outputs_filenames.values())[i]+'.bin')\n",
    "    # Merge all individual clouds\n",
    "    commande = cc.open_file(commande0,shift,workspace+workflow_folder+segmentation_folder+list(Extraction_folder.values())[i]+list(individual_outputs_folder.values())[i]+list(individual_outputs_filenames.values())[i]+'.bin')\n",
    "    cc.merge_clouds(commande)\n",
    "    os.rename(workspace+workflow_folder+segmentation_folder+list(Extraction_folder.values())[i]+list(individual_outputs_folder.values())[i]+list(individual_outputs_filenames.values())[i]+'_MERGED_0.las',workspace+workflow_folder+segmentation_folder+list(Extraction_folder.values())[i]+list(individual_outputs_folder.values())[i]+list(individual_outputs_filenames.values())[i]+'_merged.las')"
   ]
  },
  {
   "cell_type": "markdown",
   "metadata": {},
   "source": [
    "<div class=\"alert alert-block alert-warning\">\n",
    "<b>IMPORTANT:</b> In this study, the cloud number <b>#5497</b> in sources has been removed as it has been identified as resulting from a flight line imperfect alignement.\n",
    "</div> "
   ]
  },
  {
   "cell_type": "markdown",
   "metadata": {},
   "source": [
    "<div class=\"alert alert-block alert-info\">\n",
    "<b>Tip:</b> \n",
    "Once done, you can then open the file \"individual_sources.bin\" or \"individual_deposits.bin\" in Cloudcompare. To save the information of each point cloud, select them and click on: *Tools > Batch export > Export cloud info*. .\n",
    "</div>"
   ]
  },
  {
   "cell_type": "code",
   "execution_count": 12,
   "metadata": {},
   "outputs": [
    {
     "ename": "SystemExit",
     "evalue": "Stop right there!",
     "output_type": "error",
     "traceback": [
      "An exception has occurred, use %tb to see the full traceback.\n",
      "\u001b[1;31mSystemExit\u001b[0m\u001b[1;31m:\u001b[0m Stop right there!\n"
     ]
    }
   ],
   "source": [
    "raise SystemExit(\"The workflow stops right here!\")"
   ]
  },
  {
   "cell_type": "markdown",
   "metadata": {},
   "source": [
    "# Results: Landslide analysis\n",
    "<hr size=\"1\"></hr>"
   ]
  },
  {
   "cell_type": "markdown",
   "metadata": {},
   "source": [
    "## Geomorphic change and landslide detection inventory"
   ]
  },
  {
   "cell_type": "code",
   "execution_count": 10,
   "metadata": {},
   "outputs": [],
   "source": [
    "path_clouds_infos = 'D:/Beyond_2D_inventories_synoptic_3D_landslide_volume_calculation_from_repeat_LiDAR_data/res/Supp._analysis/interpolation/'\n",
    "clouds_infos_filename = {'Sources':'Sources_informations.csv','Deposits':'Deposits_informations.csv'}"
   ]
  },
  {
   "cell_type": "code",
   "execution_count": 11,
   "metadata": {},
   "outputs": [],
   "source": [
    "dataframes={'Sources': pd.read_csv(path_clouds_infos+clouds_infos_filename['Sources'],sep=';'),'Deposits': pd.read_csv(path_clouds_infos+clouds_infos_filename['Deposits'],sep=';')}"
   ]
  },
  {
   "cell_type": "code",
   "execution_count": 12,
   "metadata": {},
   "outputs": [],
   "source": [
    "number_of_clouds = []\n",
    "area_range = []\n",
    "Total_area = []\n",
    "volume_range = []\n",
    "Total_volume = []\n",
    "uncertainty_volume_range = []\n",
    "Uncertainty_Total_volume = []\n",
    "min_volume = 6.8"
   ]
  },
  {
   "cell_type": "code",
   "execution_count": 13,
   "metadata": {},
   "outputs": [],
   "source": [
    "for i in range(0,len(clouds_infos_filename)):\n",
    "    number_of_clouds.append(len(list(dataframes.values())[i]))\n",
    "    area_range.append([list(dataframes.values())[i]['Points'].min(),list(dataframes.values())[i]['Points'].max()])\n",
    "    Total_area.append(list(dataframes.values())[i]['Points'].sum())\n",
    "    volume_range.append([np.around(list(dataframes.values())[i]['SF#1 sum'][list(dataframes.values())[i]['SF#1 sum'].abs()>min_volume].abs().min(),2),np.around(list(dataframes.values())[i]['SF#1 sum'].abs().max(),2)])\n",
    "    Total_volume.append(np.around(list(dataframes.values())[i]['SF#1 sum'].sum(),0))\n",
    "    uncertainty_volume_range.append([list(dataframes.values())[i]['SF#13 sum'].min(),list(dataframes.values())[i]['SF#13 sum'].max()])\n",
    "    Uncertainty_Total_volume.append(np.around(list(dataframes.values())[i]['SF#13 sum'].sum(),0))"
   ]
  },
  {
   "cell_type": "code",
   "execution_count": 14,
   "metadata": {},
   "outputs": [
    {
     "data": {
      "text/html": [
       "<div>\n",
       "<style scoped>\n",
       "    .dataframe tbody tr th:only-of-type {\n",
       "        vertical-align: middle;\n",
       "    }\n",
       "\n",
       "    .dataframe tbody tr th {\n",
       "        vertical-align: top;\n",
       "    }\n",
       "\n",
       "    .dataframe thead th {\n",
       "        text-align: right;\n",
       "    }\n",
       "</style>\n",
       "<table border=\"1\" class=\"dataframe\">\n",
       "  <thead>\n",
       "    <tr style=\"text-align: right;\">\n",
       "      <th></th>\n",
       "      <th>Number of sources/deposits</th>\n",
       "      <th>Range of area (m² ; [min,max])</th>\n",
       "      <th>Total area (m²)</th>\n",
       "      <th>Range of volume (m$^3$)</th>\n",
       "      <th>Total volume (m$^3$)</th>\n",
       "      <th>3D uncertainty on total volume</th>\n",
       "    </tr>\n",
       "  </thead>\n",
       "  <tbody>\n",
       "    <tr>\n",
       "      <th>Sources</th>\n",
       "      <td>1431</td>\n",
       "      <td>[20, 42650]</td>\n",
       "      <td>438124</td>\n",
       "      <td>[6.97, 171175.0]</td>\n",
       "      <td>-908055.0</td>\n",
       "      <td>215640.0</td>\n",
       "    </tr>\n",
       "    <tr>\n",
       "      <th>Deposits</th>\n",
       "      <td>853</td>\n",
       "      <td>[20, 32513]</td>\n",
       "      <td>376363</td>\n",
       "      <td>[7.18, 154599.0]</td>\n",
       "      <td>1008626.0</td>\n",
       "      <td>172745.0</td>\n",
       "    </tr>\n",
       "  </tbody>\n",
       "</table>\n",
       "</div>"
      ],
      "text/plain": [
       "          Number of sources/deposits Range of area (m² ; [min,max])  \\\n",
       "Sources                         1431                    [20, 42650]   \n",
       "Deposits                         853                    [20, 32513]   \n",
       "\n",
       "          Total area (m²) Range of volume (m$^3$)  Total volume (m$^3$)  \\\n",
       "Sources            438124        [6.97, 171175.0]             -908055.0   \n",
       "Deposits           376363        [7.18, 154599.0]             1008626.0   \n",
       "\n",
       "          3D uncertainty on total volume  \n",
       "Sources                         215640.0  \n",
       "Deposits                        172745.0  "
      ]
     },
     "execution_count": 14,
     "metadata": {},
     "output_type": "execute_result"
    }
   ],
   "source": [
    "df_dico={'Number of sources/deposits':number_of_clouds,'Range of area (m² ; [min,max])':area_range,'Total area (m²)':Total_area,\n",
    "        'Range of volume (m$^3$)':volume_range,'Total volume (m$^3$)': Total_volume, '3D uncertainty on total volume':Uncertainty_Total_volume}\n",
    "Dataframe = pd.DataFrame(df_dico,index=['Sources','Deposits'])\n",
    "Dataframe"
   ]
  },
  {
   "cell_type": "code",
   "execution_count": null,
   "metadata": {},
   "outputs": [],
   "source": []
  }
 ],
 "metadata": {
  "kernelspec": {
   "display_name": "Python 3",
   "language": "python",
   "name": "python3"
  },
  "language_info": {
   "codemirror_mode": {
    "name": "ipython",
    "version": 3
   },
   "file_extension": ".py",
   "mimetype": "text/x-python",
   "name": "python",
   "nbconvert_exporter": "python",
   "pygments_lexer": "ipython3",
   "version": "3.7.6"
  }
 },
 "nbformat": 4,
 "nbformat_minor": 4
}
